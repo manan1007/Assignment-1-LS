{
  "nbformat": 4,
  "nbformat_minor": 0,
  "metadata": {
    "colab": {
      "provenance": [],
      "include_colab_link": true
    },
    "kernelspec": {
      "name": "python3",
      "display_name": "Python 3"
    },
    "language_info": {
      "name": "python"
    }
  },
  "cells": [
    {
      "cell_type": "markdown",
      "metadata": {
        "id": "view-in-github",
        "colab_type": "text"
      },
      "source": [
        "<a href=\"https://colab.research.google.com/github/manan1007/Assignment-1-LS/blob/main/linear_regression_week1.ipynb\" target=\"_parent\"><img src=\"https://colab.research.google.com/assets/colab-badge.svg\" alt=\"Open In Colab\"/></a>"
      ]
    },
    {
      "cell_type": "code",
      "execution_count": 18,
      "metadata": {
        "id": "-zTLHrFCT6KY"
      },
      "outputs": [],
      "source": [
        "import numpy as np\n",
        "import pandas as pd\n",
        "import matplotlib.pyplot as plt\n",
        "\n",
        "# Aim is to predict the marks of students of the test data"
      ]
    },
    {
      "cell_type": "code",
      "source": [
        "# Use the file namd 'training data' to train the model\n",
        "\n",
        "data = pd.read_excel('Training data.xlsx')\n",
        "x_train = np.array(data.iloc[:,0:8])\n",
        "y_train = np.array(data.iloc[:,8]).reshape(-1,1)\n",
        "\n",
        "# Try plotting y_train with different features\n",
        "# To get an idea whether to add some features or not\n",
        "# Add some features if required in x_train\n",
        "\n",
        "# Also do label encoding for features not represented in numbers\n",
        "# refer the link if not know : https://youtu.be/589nCGeWG1w?si=t2Wa7LgbUOO4RooM\n",
        "\n",
        "def feature_changing(x_train):\n",
        "  # ---------\n",
        "    s = x_train.shape[0]\n",
        "    for i in range(s):\n",
        "      if(x_train[i][0] == \"no\"):\n",
        "        x_train[i][0] = 0\n",
        "      else:\n",
        "        x_train[i][0] = 1\n",
        "      if(x_train[i][1] == \"M\"):\n",
        "        x_train[i][1] = 1\n",
        "      else:\n",
        "        x_train[i][1] = 0\n",
        "    return x_train\n",
        "  # ---------\n",
        "    return x_train\n",
        "\n",
        "x_train = feature_changing(x_train)"
      ],
      "metadata": {
        "id": "p0KHq8ZgTpU4"
      },
      "execution_count": 27,
      "outputs": []
    },
    {
      "cell_type": "code",
      "source": [
        "def z_score(x_train):\n",
        "\n",
        "  # ---------\n",
        "    x_std = np.std(x_train, axis =0)\n",
        "    x_mean = np.mean(x_train, axis =0)\n",
        "    x_train= (x_train - x_mean)/x_std\n",
        "  # ---------\n",
        "\n",
        "    return x_train,x_std,x_mean"
      ],
      "metadata": {
        "id": "tYshvtYlVour"
      },
      "execution_count": 20,
      "outputs": []
    },
    {
      "cell_type": "code",
      "source": [
        "def cost(x_train,y_train,w,b):\n",
        "\n",
        "  # ---------\n",
        "    cost = 0\n",
        "    m,n = x_train.shape\n",
        "    for i in range(m):\n",
        "      fw_b = np.dot(w.T,x_train[i]) + b\n",
        "      term = (fw_b - y_train[i])\n",
        "      cost += term**2\n",
        "    loss = cost/(2*m)\n",
        "  # ---------\n",
        "\n",
        "    return loss"
      ],
      "metadata": {
        "id": "O5dOwbNbWJWa"
      },
      "execution_count": 24,
      "outputs": []
    },
    {
      "cell_type": "code",
      "source": [
        "def gradient_descent(x_train,y_train,w,b):\n",
        "\n",
        "  # ---------\n",
        "  alpha = 0.001\n",
        "  s1,s2 = x_train.shape\n",
        "  dj_dw = np.zeros(s2)\n",
        "  dj_db =0\n",
        "  for i in range(s1):\n",
        "    fw_b = (np.dot(w.T,x_train[i]) + b)\n",
        "    err = fw_b - y_train[i]\n",
        "    for j in range(s2):\n",
        "      dj_dw[j] += err*x_train[i][j]\n",
        "    dj_db += err\n",
        "  dj_dw = (dj_dw/s1).reshape(-1,1)\n",
        "  dj_db = dj_db/s1\n",
        "\n",
        "  tmp_w = w - alpha*dj_dw\n",
        "  tmp_b = b - alpha*dj_db\n",
        "  w= tmp_w\n",
        "  b = tmp_b\n",
        "  # ---------\n",
        "\n",
        "  return w,b"
      ],
      "metadata": {
        "id": "hW8p2cTNU74W"
      },
      "execution_count": 22,
      "outputs": []
    },
    {
      "cell_type": "code",
      "source": [
        "x_train = x_train.astype(np.float64)\n",
        "x_train,x_std,x_mean = z_score(x_train)\n",
        "\n",
        "np.random.seed(2147483647)\n",
        "w = np.random.randn(x_train.shape[1],1)\n",
        "b = np.random.randn(1)\n",
        "\n",
        "old_cost = 0\n",
        "\n",
        "while abs(old_cost - cost(x_train,y_train,w,b))>0.00001:\n",
        "  old_cost = cost(x_train,y_train,w,b)\n",
        "  w,b = gradient_descent(x_train,y_train,w,b)\n",
        "\n",
        "x_predict = pd.read_excel('Test data.xlsx').iloc[:,:8].to_numpy()\n",
        "x_predict = feature_changing(x_predict)\n",
        "x_predict = (x_predict - x_mean)/x_std\n",
        "ans = pd.read_excel('Test data.xlsx').iloc[:,8].to_numpy()\n",
        "\n",
        "y_predict = np.dot(x_predict,w) + b\n",
        "\n",
        "accuracy = 0\n",
        "for dim in range(len(ans)):\n",
        "  if abs(y_predict[dim]-ans[dim])<0.5: # do not change the tolerance as you'll be checked on +- 0.5 error only\n",
        "    accuracy += 1\n",
        "accuracy = round(accuracy*100/200.0,2)\n",
        "ok = 'Congratulations' if accuracy>95 else 'Optimization required'\n",
        "print(f\"{ok}, your accuracy is {accuracy}%\")"
      ],
      "metadata": {
        "id": "Kl-fioJ5WkYn",
        "outputId": "ec9843b6-abe1-452c-f54a-1b35e17dd75c",
        "colab": {
          "base_uri": "https://localhost:8080/"
        }
      },
      "execution_count": 26,
      "outputs": [
        {
          "output_type": "stream",
          "name": "stderr",
          "text": [
            "<ipython-input-22-3754636822e9>:12: DeprecationWarning: Conversion of an array with ndim > 0 to a scalar is deprecated, and will error in future. Ensure you extract a single element from your array before performing this operation. (Deprecated NumPy 1.25.)\n",
            "  dj_dw[j] += err*x_train[i][j]\n"
          ]
        },
        {
          "output_type": "stream",
          "name": "stdout",
          "text": [
            "Optimization required, your accuracy is 0.0%\n"
          ]
        }
      ]
    }
  ]
}